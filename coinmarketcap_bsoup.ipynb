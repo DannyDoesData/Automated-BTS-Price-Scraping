{
 "cells": [
  {
   "cell_type": "code",
   "execution_count": 35,
   "metadata": {},
   "outputs": [],
   "source": [
    "from bs4 import BeautifulSoup\n",
    "import requests\n",
    "import time\n",
    "import datetime \n",
    "import csv\n",
    "import pandas as pd\n",
    "import datetime"
   ]
  },
  {
   "cell_type": "code",
   "execution_count": 36,
   "metadata": {},
   "outputs": [],
   "source": [
    "URL = 'https://coinmarketcap.com/currencies/bitcoin/'\n",
    "\n",
    "headers = {\"User-Agent\": \"Mozilla/5.0 (Windows NT 10.0; Win64; x64) AppleWebKit/537.36 (KHTML, like Gecko) Chrome/127.0.0.0 Safari/537.36\"}\n",
    "\n",
    "page = requests.get(URL, headers=headers)\n",
    "\n",
    "soup1 = BeautifulSoup (page.content, \"html.parser\")\n",
    "\n",
    "soup2 = BeautifulSoup (soup1.prettify(), 'html.parser')\n",
    "\n",
    "\n",
    "coin = soup2.find(class_='sc-65e7f566-0 lsTl').get_text().strip()\n",
    "coin = coin.replace('\\n', '').replace(' ', '')[:7]\n",
    "\n",
    "price = soup2.find(class_='sc-65e7f566-0 clvjgF base-text').get_text().strip()[1:]\n",
    "\n",
    "ticker = soup2.find(class_='sc-65e7f566-0 czZVlm base-text',).get_text().strip()\n",
    "\n"
   ]
  },
  {
   "cell_type": "code",
   "execution_count": 37,
   "metadata": {},
   "outputs": [],
   "source": [
    "from datetime import datetime\n",
    "timenow = datetime.now().strftime('%H:%M:%S')"
   ]
  },
  {
   "cell_type": "code",
   "execution_count": 38,
   "metadata": {},
   "outputs": [],
   "source": [
    "import datetime\n",
    "\n",
    "today = datetime.date.today()\n",
    "headers = ['Ticker','Asset','Price','Time','Date' ]\n",
    "data = [ticker, coin, price, timenow, today]\n",
    "\n",
    "with open('BitCoinAutomatedScraping_soup.csv', 'w', newline='', encoding='UTF8') as f : \n",
    "    writer = csv.writer(f)\n",
    "    writer.writerow(headers)\n",
    "    writer.writerow(data) \n",
    " "
   ]
  },
  {
   "cell_type": "code",
   "execution_count": 39,
   "metadata": {},
   "outputs": [
    {
     "name": "stdout",
     "output_type": "stream",
     "text": [
      "  Ticker    Asset      Price      Time        Date\n",
      "0    BTC  Bitcoin  59,484.61  23:23:53  2024-08-18\n"
     ]
    }
   ],
   "source": [
    "df = pd.read_csv(r'C:\\Users\\user\\Desktop\\VS workspaces\\Automated Data Scraping\\BitCoinAutomatedScraping_soup.csv')\n",
    "\n",
    "print(df)"
   ]
  },
  {
   "cell_type": "code",
   "execution_count": 40,
   "metadata": {},
   "outputs": [],
   "source": [
    "with open('BitCoinAutomatedScraping_soup.csv', 'a+', newline='', encoding='UTF8') as f : \n",
    "    writer = csv.writer(f)\n",
    "    writer.writerow(data) "
   ]
  },
  {
   "cell_type": "code",
   "execution_count": 41,
   "metadata": {},
   "outputs": [
    {
     "name": "stdout",
     "output_type": "stream",
     "text": [
      "   Ticker    Asset      Price      Time        Date\n",
      "0     BTC  Bitcoin  59,484.61  23:23:53  2024-08-18\n",
      "1     BTC  Bitcoin  59,484.61  23:23:53  2024-08-18\n",
      "2     BTC  Bitcoin  59,528.88  23:23:53  2024-08-18\n",
      "3     BTC  Bitcoin  59,528.88  23:23:54  2024-08-18\n",
      "4     BTC  Bitcoin  59,528.88  23:23:56  2024-08-18\n",
      "5     BTC  Bitcoin  59,528.88  23:23:57  2024-08-18\n",
      "6     BTC  Bitcoin  59,528.88  23:23:58  2024-08-18\n",
      "7     BTC  Bitcoin  59,528.88  23:24:00  2024-08-18\n",
      "8     BTC  Bitcoin  59,528.88  23:24:01  2024-08-18\n",
      "9     BTC  Bitcoin  59,528.88  23:24:02  2024-08-18\n",
      "10    BTC  Bitcoin  59,528.88  23:24:04  2024-08-18\n",
      "11    BTC  Bitcoin  59,528.88  23:24:05  2024-08-18\n",
      "12    BTC  Bitcoin  59,528.88  23:24:06  2024-08-18\n",
      "13    BTC  Bitcoin  59,528.88  23:24:08  2024-08-18\n",
      "14    BTC  Bitcoin  59,528.88  23:24:09  2024-08-18\n",
      "15    BTC  Bitcoin  59,528.88  23:24:10  2024-08-18\n",
      "16    BTC  Bitcoin  59,528.88  23:24:11  2024-08-18\n",
      "17    BTC  Bitcoin  59,528.88  23:24:13  2024-08-18\n",
      "18    BTC  Bitcoin  59,528.88  23:24:14  2024-08-18\n",
      "19    BTC  Bitcoin  59,528.88  23:24:15  2024-08-18\n",
      "20    BTC  Bitcoin  59,528.88  23:24:17  2024-08-18\n",
      "21    BTC  Bitcoin  59,528.88  23:24:18  2024-08-18\n",
      "22    BTC  Bitcoin  59,528.88  23:24:19  2024-08-18\n",
      "23    BTC  Bitcoin  59,528.88  23:24:20  2024-08-18\n",
      "24    BTC  Bitcoin  59,528.88  23:24:22  2024-08-18\n",
      "25    BTC  Bitcoin  59,528.88  23:24:23  2024-08-18\n",
      "26    BTC  Bitcoin  59,528.88  23:24:24  2024-08-18\n",
      "27    BTC  Bitcoin  59,528.88  23:24:25  2024-08-18\n",
      "28    BTC  Bitcoin  59,528.88  23:24:27  2024-08-18\n",
      "29    BTC  Bitcoin  59,528.88  23:24:28  2024-08-18\n",
      "30    BTC  Bitcoin  59,528.88  23:24:29  2024-08-18\n",
      "31    BTC  Bitcoin  59,528.88  23:24:31  2024-08-18\n"
     ]
    }
   ],
   "source": [
    "def check_price():\n",
    "    URL = 'https://coinmarketcap.com/currencies/bitcoin/'\n",
    "\n",
    "    headers = {\"User-Agent\": \"Mozilla/5.0 (Windows NT 10.0; Win64; x64) AppleWebKit/537.36 (KHTML, like Gecko) Chrome/127.0.0.0 Safari/537.36\"}\n",
    "\n",
    "    page = requests.get(URL, headers=headers)\n",
    "\n",
    "    soup1 = BeautifulSoup (page.content, \"html.parser\")\n",
    "\n",
    "    soup2 = BeautifulSoup (soup1.prettify(), 'html.parser')\n",
    "\n",
    "\n",
    "    coin = soup2.find(class_='sc-65e7f566-0 lsTl').get_text().strip()\n",
    "    coin = coin.replace('\\n', '').replace(' ', '')[:7]\n",
    "\n",
    "  \n",
    "    price_element = soup2.find('div', {'sc-65e7f566-0 DDohe flexStart alignBaseline'}).get_text().strip()\n",
    "    price_element = price_element.replace('\\n', '').replace(' ', '')[1:10]\n",
    "    price=price_element\n",
    "\n",
    "    ticker = soup2.find(class_='sc-65e7f566-0 czZVlm base-text').get_text().strip()\n",
    "\n",
    "    from datetime import datetime\n",
    "    timenow = datetime.now().strftime('%H:%M:%S')\n",
    "\n",
    "    import datetime\n",
    "    today = datetime.date.today()\n",
    "    \n",
    "\n",
    "    data = [ticker, coin, price, timenow, today]\n",
    "\n",
    "    with open('BitCoinAutomatedScraping_soup.csv', 'a+', newline='', encoding='UTF8') as f : \n",
    "        writer = csv.writer(f)\n",
    "        writer.writerow(data) \n",
    "\n",
    "# Check for 30 iterations\n",
    "i=0\n",
    "while i<30:  \n",
    "    check_price()\n",
    "    time.sleep(1)\n",
    "    i=i+1\n",
    "df = pd.read_csv(r'C:\\Users\\user\\Desktop\\VS workspaces\\Automated Data Scraping\\BitCoinAutomatedScraping_soup.csv')\n",
    "print(df)\n",
    "\n"
   ]
  },
  {
   "cell_type": "code",
   "execution_count": 42,
   "metadata": {},
   "outputs": [],
   "source": [
    "# while(True) : \n",
    "#     check_price()\n",
    "#     time.sleep(5)"
   ]
  },
  {
   "cell_type": "code",
   "execution_count": 43,
   "metadata": {},
   "outputs": [],
   "source": [
    "# df = pd.read_csv(r'C:\\Users\\user\\Desktop\\VS workspaces\\Automated Data Scraping\\BitCoinAutomatedScraping_soup.csv')\n",
    "\n",
    "# print(df)"
   ]
  },
  {
   "cell_type": "code",
   "execution_count": null,
   "metadata": {},
   "outputs": [],
   "source": []
  }
 ],
 "metadata": {
  "kernelspec": {
   "display_name": "Python 3",
   "language": "python",
   "name": "python3"
  },
  "language_info": {
   "codemirror_mode": {
    "name": "ipython",
    "version": 3
   },
   "file_extension": ".py",
   "mimetype": "text/x-python",
   "name": "python",
   "nbconvert_exporter": "python",
   "pygments_lexer": "ipython3",
   "version": "3.9.7"
  }
 },
 "nbformat": 4,
 "nbformat_minor": 2
}
